{
 "cells": [
  {
   "cell_type": "markdown",
   "metadata": {},
   "source": [
    "knn, random forest, xgboost"
   ]
  },
  {
   "cell_type": "code",
   "execution_count": 7,
   "metadata": {},
   "outputs": [],
   "source": [
    "# import packages\n",
    "import pandas as pd\n",
    "import numpy as np\n",
    "import matplotlib.pyplot as plt\n",
    "import seaborn as sns\n",
    "from sklearn.model_selection import train_test_split\n",
    "from sklearn.model_selection import GridSearchCV\n",
    "from sklearn.neighbors import KNeighborsClassifier\n",
    "from sklearn.metrics import accuracy_score\n",
    "from sklearn.ensemble import RandomForestClassifier\n",
    "from xgboost import XGBClassifier"
   ]
  },
  {
   "cell_type": "code",
   "execution_count": 3,
   "metadata": {},
   "outputs": [
    {
     "name": "stdout",
     "output_type": "stream",
     "text": [
      "Index(['Income', 'Kidhome', 'Teenhome', 'Recency', 'MntWines', 'MntFruits',\n",
      "       'MntMeatProducts', 'MntFishProducts', 'MntSweetProducts',\n",
      "       'MntGoldProds', 'NumDealsPurchases', 'NumWebPurchases',\n",
      "       'NumCatalogPurchases', 'NumStorePurchases', 'NumWebVisitsMonth',\n",
      "       'AcceptedCmp3', 'AcceptedCmp4', 'AcceptedCmp5', 'AcceptedCmp1',\n",
      "       'AcceptedCmp2', 'Complain', 'Z_CostContact', 'Z_Revenue', 'Response',\n",
      "       'Age', 'Customer_Days', 'marital_Divorced', 'marital_Married',\n",
      "       'marital_Single', 'marital_Together', 'marital_Widow',\n",
      "       'education_2n Cycle', 'education_Basic', 'education_Graduation',\n",
      "       'education_Master', 'education_PhD', 'MntTotal', 'MntRegularProds',\n",
      "       'AcceptedCmpOverall'],\n",
      "      dtype='object')\n"
     ]
    }
   ],
   "source": [
    "# read in data\n",
    "ifood = pd.read_csv('ifood_df.csv')\n",
    "print(ifood.columns)"
   ]
  },
  {
   "cell_type": "code",
   "execution_count": null,
   "metadata": {},
   "outputs": [],
   "source": [
    "# data preprocessing\n",
    "ifood_rdu = ifood.drop(['Z_CostContact', 'Z_Revenue', 'MntTotal', 'MntRegularProds', 'AcceptedCmpOverall'], axis=1)\n",
    "\n",
    "X = ifood_rdu.loc[:, ifood_rdu.columns != 'Response']\n",
    "y = ifood_rdu['Response']"
   ]
  },
  {
   "cell_type": "code",
   "execution_count": 6,
   "metadata": {},
   "outputs": [],
   "source": [
    "# 70-30 train-test split\n",
    "X_train, X_test, y_train, y_test = train_test_split(X, y, test_size=0.3, random_state=1234)"
   ]
  },
  {
   "cell_type": "markdown",
   "metadata": {},
   "source": [
    "# k-Nearest Neighbors"
   ]
  },
  {
   "cell_type": "code",
   "execution_count": null,
   "metadata": {},
   "outputs": [],
   "source": [
    "# estimate k  a kNN distance plot\n",
    "k = 4\n",
    "\n",
    "# fit the k-nearest neighbors model\n",
    "neighbors = NearestNeighbors(n_neighbors = k)\n",
    "neighbors_fit = neighbors.fit(ifood_scal)\n",
    "\n",
    "# calculate the k-nearest distances\n",
    "distances, indicies = neighbors_fit.kneighbors(X_train)\n",
    "k_distances = np.sort(distances[:, k-1])\n",
    "\n",
    "# plot the kNN distance\n",
    "plt.plot(k_distances)\n",
    "plt.xlabel('Data Points Sorted by Distance')\n",
    "plt.ylabel(f'{k}-th Nearest Neighbor Distance')\n",
    "plt.title('kNN Distance Plot for DBSCAN')\n",
    "plt.show()"
   ]
  },
  {
   "cell_type": "code",
   "execution_count": null,
   "metadata": {},
   "outputs": [],
   "source": [
    "knn = KNeighborsClassifier(n_neighbors=k)\n",
    "knn.fit(X_train, y_train)"
   ]
  },
  {
   "cell_type": "code",
   "execution_count": null,
   "metadata": {},
   "outputs": [],
   "source": [
    "knn_pred = knn.predict(X_test)\n",
    "\n",
    "print(f'Accuracy with k={k}:', accuracy_score(y_test, knn_pred)*100)"
   ]
  },
  {
   "cell_type": "markdown",
   "metadata": {},
   "source": [
    "# Random Forest"
   ]
  },
  {
   "cell_type": "code",
   "execution_count": null,
   "metadata": {},
   "outputs": [],
   "source": [
    "# parameter tuning\n",
    "param_grid = {\n",
    "    'bootstrap': [True],\n",
    "    'max_features': [3, 4, 5, 6, 7],\n",
    "    'n_estimators': [100, 200, 300, 400, 500, 600, 700, 800]\n",
    "}\n",
    "\n",
    "rf = RandomForestClassifier(random_state = 12345)\n",
    "\n",
    "grid_search = GridSearchCV(estimator = rf, param_grid = param_grid, cv = 10)\n",
    "\n",
    "grid_search.fit(X_train, y_train)\n",
    "\n",
    "grid_search.best_params_"
   ]
  },
  {
   "cell_type": "code",
   "execution_count": null,
   "metadata": {},
   "outputs": [],
   "source": [
    "# build best parameter model"
   ]
  },
  {
   "cell_type": "code",
   "execution_count": null,
   "metadata": {},
   "outputs": [],
   "source": [
    "# variable selection (random variable method)\n",
    "X_train_r = X_train\n",
    "\n",
    "X_train_r['random'] = np.random.normal(0, 1, 1543)\n",
    "\n",
    "rf_ames = RandomForestRegressor(n_estimators = 500,\n",
    "                                max_features = 7,\n",
    "                                  random_state = 12345,\n",
    "                                  oob_score = True)\n",
    "\n",
    "rf_ames.fit(X_train_r, y_train)\n",
    "\n",
    "forest_importances = pd.Series(rf_ames.feature_importances_, index = rf_ames.feature_names_in_)\n",
    "\n",
    "fig, ax = plt.subplots()\n",
    "forest_importances.plot.bar(ax = ax)\n",
    "ax.set_title(\"Feature importances\")\n",
    "ax.set_ylabel(\"Mean decrease in impurity\")\n",
    "fig.tight_layout()\n",
    "\n",
    "plt.show()"
   ]
  },
  {
   "cell_type": "code",
   "execution_count": null,
   "metadata": {},
   "outputs": [],
   "source": [
    "# re-tuning parameters with reduced model"
   ]
  },
  {
   "cell_type": "code",
   "execution_count": null,
   "metadata": {},
   "outputs": [],
   "source": [
    "# final model"
   ]
  },
  {
   "cell_type": "markdown",
   "metadata": {},
   "source": [
    "# XGBoost"
   ]
  },
  {
   "cell_type": "code",
   "execution_count": null,
   "metadata": {},
   "outputs": [],
   "source": [
    "# parameter tuning\n",
    "param_grid = {\n",
    "    'n_estimators': [5, 10, 15, 20, 25, 30, 35, 40, 45, 50],\n",
    "    'eta': [0.1, 0.15, 0.2, 0.25, 0.3],\n",
    "    'max_depth': [1, 2, 3, 4, 5, 6, 7, 8, 9, 10],\n",
    "    'subsample': [0.25, 0.5, 0.75, 1]\n",
    "}\n",
    "\n",
    "xgb = XGBRegressor()\n",
    "\n",
    "grid_search = GridSearchCV(estimator = xgb, param_grid = param_grid, cv = 10)\n",
    "\n",
    "grid_search.fit(X_train, y_train)\n",
    "\n",
    "grid_search.best_params_"
   ]
  },
  {
   "cell_type": "code",
   "execution_count": null,
   "metadata": {},
   "outputs": [],
   "source": [
    "# build best parameter model"
   ]
  },
  {
   "cell_type": "code",
   "execution_count": null,
   "metadata": {},
   "outputs": [],
   "source": [
    "# variable selection (random variable method)\n",
    "forest_importances = pd.Series(xgb_ames.feature_importances_, index = xgb_ames.feature_names_in_)\n",
    "\n",
    "fig, ax = plt.subplots()\n",
    "forest_importances.plot.bar(ax = ax)\n",
    "ax.set_title(\"Feature importances\")\n",
    "ax.set_ylabel(\"Mean decrease in impurity\")\n",
    "fig.tight_layout()\n",
    "\n",
    "plt.show()"
   ]
  },
  {
   "cell_type": "code",
   "execution_count": null,
   "metadata": {},
   "outputs": [],
   "source": [
    "# variable selection (importance plot with random variable)\n",
    "xgboost.plot_importance(xgb_ames, importance_type = 'cover')\n",
    "\n",
    "plt.show()"
   ]
  },
  {
   "cell_type": "code",
   "execution_count": null,
   "metadata": {},
   "outputs": [],
   "source": [
    "# re-tuning parameters with reduced model"
   ]
  },
  {
   "cell_type": "code",
   "execution_count": null,
   "metadata": {},
   "outputs": [],
   "source": [
    "# build best parameter model"
   ]
  }
 ],
 "metadata": {
  "kernelspec": {
   "display_name": "AnalyticsFoundations",
   "language": "python",
   "name": "python3"
  },
  "language_info": {
   "codemirror_mode": {
    "name": "ipython",
    "version": 3
   },
   "file_extension": ".py",
   "mimetype": "text/x-python",
   "name": "python",
   "nbconvert_exporter": "python",
   "pygments_lexer": "ipython3",
   "version": "3.11.9"
  }
 },
 "nbformat": 4,
 "nbformat_minor": 2
}
