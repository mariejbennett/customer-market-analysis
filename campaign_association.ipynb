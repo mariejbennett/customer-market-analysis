{
 "cells": [
  {
   "cell_type": "markdown",
   "metadata": {},
   "source": [
    "# Analysis Summary\n",
    "The data includes customer responses to five initial campaigns and to a final campaign. This analysis evaulates the difference in response rates across the campaigns and the general association between the final campaign and the five initial campaigns. Between campaigns, the results were as follows:\n",
    "- the final campaign is significantly different from all 5 other campaigns (more customer responses)\n",
    "- responses to the final campaign were commonly associated with responses to campaigns 1, 4, and 5"
   ]
  },
  {
   "cell_type": "code",
   "execution_count": 10,
   "metadata": {},
   "outputs": [],
   "source": [
    "# import needed packages\n",
    "import pandas as pd\n",
    "from statsmodels.stats.contingency_tables import mcnemar\n",
    "from mlxtend.frequent_patterns import apriori, association_rules"
   ]
  },
  {
   "cell_type": "code",
   "execution_count": 11,
   "metadata": {},
   "outputs": [],
   "source": [
    "# read in the data\n",
    "ifood = pd.read_csv('ifood_df.csv')"
   ]
  },
  {
   "cell_type": "code",
   "execution_count": 12,
   "metadata": {},
   "outputs": [],
   "source": [
    "# subset the data to only include campaign responses\n",
    "ifood_campaign = ifood[['AcceptedCmp1', 'AcceptedCmp2', 'AcceptedCmp3', 'AcceptedCmp4', 'AcceptedCmp5', 'Response']]"
   ]
  },
  {
   "cell_type": "code",
   "execution_count": 13,
   "metadata": {},
   "outputs": [
    {
     "name": "stdout",
     "output_type": "stream",
     "text": [
      "AcceptedCmp1 vs. Final Campaign: adjusted p-value=1.2420643960807265e-27\n",
      "AcceptedCmp2 vs. Final Campaign: adjusted p-value=1.7884392650263506e-78\n",
      "AcceptedCmp3 vs. Final Campaign: adjusted p-value=4.7836055223779593e-20\n",
      "AcceptedCmp4 vs. Final Campaign: adjusted p-value=4.158949524956411e-18\n",
      "AcceptedCmp5 vs. Final Campaign: adjusted p-value=1.2415450493412101e-22\n"
     ]
    }
   ],
   "source": [
    "# perform a pairwise proportion test (McNemar's test)\n",
    "# create pairwise comparisons between each campaign and the final campaign\n",
    "campaigns = ['AcceptedCmp1', 'AcceptedCmp2', 'AcceptedCmp3', 'AcceptedCmp4', 'AcceptedCmp5']\n",
    "alpha = 0.05\n",
    "\n",
    "# perform individual mcnemar tests for each campaign pair\n",
    "for i in campaigns:\n",
    "    table = pd.crosstab(ifood_campaign[i], ifood_campaign['Response'])\n",
    "    result = mcnemar(table, exact=True)\n",
    "    p_value = result.pvalue\n",
    "\n",
    "    # apply Bonferroni correction (reduce type I error risk)\n",
    "    p_value_adj = p_value * len(campaigns)\n",
    "\n",
    "    # print results of each comparison\n",
    "    print(f\"{i} vs. Final Campaign: adjusted p-value={p_value_adj}\")"
   ]
  },
  {
   "cell_type": "code",
   "execution_count": 14,
   "metadata": {},
   "outputs": [
    {
     "name": "stdout",
     "output_type": "stream",
     "text": [
      "                                   antecedents  \\\n",
      "26  (AcceptedCmp4, AcceptedCmp1, AcceptedCmp5)   \n",
      "16                (AcceptedCmp1, AcceptedCmp5)   \n",
      "10                (AcceptedCmp1, AcceptedCmp4)   \n",
      "33                (AcceptedCmp1, AcceptedCmp4)   \n",
      "30                (AcceptedCmp4, AcceptedCmp5)   \n",
      "29                (AcceptedCmp1, AcceptedCmp5)   \n",
      "18                              (AcceptedCmp1)   \n",
      "19                              (AcceptedCmp5)   \n",
      "22                              (AcceptedCmp5)   \n",
      "23                              (AcceptedCmp4)   \n",
      "12                              (AcceptedCmp1)   \n",
      "13                              (AcceptedCmp4)   \n",
      "36                              (AcceptedCmp1)   \n",
      "34                              (AcceptedCmp5)   \n",
      "37                              (AcceptedCmp4)   \n",
      "\n",
      "                               consequents   support  confidence       lift  \n",
      "26                              (Response)  0.011791    0.838710   5.553618  \n",
      "16                              (Response)  0.024036    0.779412   5.160970  \n",
      "10                              (Response)  0.015420    0.755556   5.003003  \n",
      "33                (Response, AcceptedCmp5)  0.011791    0.577778  14.000000  \n",
      "30                (Response, AcceptedCmp1)  0.011791    0.440678  12.299936  \n",
      "29                (Response, AcceptedCmp4)  0.011791    0.382353  13.598197  \n",
      "18                (Response, AcceptedCmp5)  0.024036    0.373239   9.043879  \n",
      "19                (Response, AcceptedCmp1)  0.024036    0.329193   9.188222  \n",
      "22                (Response, AcceptedCmp4)  0.018141    0.248447   8.835905  \n",
      "23                (Response, AcceptedCmp5)  0.018141    0.243902   5.909944  \n",
      "12                (Response, AcceptedCmp4)  0.015420    0.239437   8.515448  \n",
      "13                (Response, AcceptedCmp1)  0.015420    0.207317   5.786508  \n",
      "36  (AcceptedCmp4, Response, AcceptedCmp5)  0.011791    0.183099  10.093310  \n",
      "34  (Response, AcceptedCmp1, AcceptedCmp4)  0.011791    0.161491  10.473146  \n",
      "37  (Response, AcceptedCmp1, AcceptedCmp5)  0.011791    0.158537   6.595720  \n"
     ]
    },
    {
     "name": "stderr",
     "output_type": "stream",
     "text": [
      "c:\\Users\\marie\\anaconda3\\envs\\AnalyticsFoundations\\Lib\\site-packages\\mlxtend\\frequent_patterns\\fpcommon.py:161: DeprecationWarning: DataFrames with non-bool types result in worse computationalperformance and their support might be discontinued in the future.Please use a DataFrame with bool type\n",
      "  warnings.warn(\n"
     ]
    }
   ],
   "source": [
    "# association analysis\n",
    "# get the most frequent campaign response pairs \n",
    "frequent_pairs = apriori(ifood_campaign, min_support=0.01, use_colnames=True)\n",
    "\n",
    "# output the association rules\n",
    "rules = association_rules(frequent_pairs, num_itemsets = 2205, metric=\"lift\", min_threshold=5.0)\n",
    "\n",
    "# filter the association rules to only include consequents with the response variable\n",
    "rules_response = rules[rules['consequents'].apply(lambda x: 'Response' in x)]\n",
    "\n",
    "# output the final rules table (sorted by confidence)\n",
    "rules_table = rules_response[['antecedents', 'consequents', 'support', 'confidence', 'lift']].sort_values(by='confidence', ascending=False)\n",
    "print(rules_table)"
   ]
  }
 ],
 "metadata": {
  "kernelspec": {
   "display_name": "AnalyticsFoundations",
   "language": "python",
   "name": "python3"
  },
  "language_info": {
   "codemirror_mode": {
    "name": "ipython",
    "version": 3
   },
   "file_extension": ".py",
   "mimetype": "text/x-python",
   "name": "python",
   "nbconvert_exporter": "python",
   "pygments_lexer": "ipython3",
   "version": "3.11.9"
  }
 },
 "nbformat": 4,
 "nbformat_minor": 2
}
