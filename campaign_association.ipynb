{
 "cells": [
  {
   "cell_type": "markdown",
   "metadata": {},
   "source": [
    "# Analysis Summary\n",
    "The data includes customer responses to five initial campaigns and to a final campaign. This analysis evaulates the difference in response rates across the campaigns and the general association between the final campaign and the five initial campaigns. Between campaigns, the results were as follows:\n",
    "1. campaign 2 is significantly different from all other campaigns (less customer responses)\n",
    "2. the final campaign is significantly different from all 5 other campaigns (more customer responses)\n",
    "3. campaigns 1, 3, 4, and 5 are not signifcantly different from each other in terms of customer responses\n",
    "\n",
    "In terms of associations, responses to the final campaign were commonly associated with responses to campaigns 1, 4, and 5."
   ]
  },
  {
   "cell_type": "code",
   "execution_count": 1,
   "metadata": {},
   "outputs": [],
   "source": [
    "# import needed packages\n",
    "import pandas as pd\n",
    "from statsmodels.stats.contingency_tables import cochrans_q\n",
    "from itertools import combinations\n",
    "from statsmodels.stats.contingency_tables import mcnemar\n",
    "import statsmodels.stats.multitest as smm\n",
    "from mlxtend.frequent_patterns import apriori, association_rules"
   ]
  },
  {
   "cell_type": "code",
   "execution_count": 2,
   "metadata": {},
   "outputs": [],
   "source": [
    "# read in the data\n",
    "ifood = pd.read_csv('ifood_df.csv')"
   ]
  },
  {
   "cell_type": "code",
   "execution_count": 3,
   "metadata": {},
   "outputs": [
    {
     "name": "stdout",
     "output_type": "stream",
     "text": [
      "df          5\n",
      "pvalue      4.2306049840149846e-79\n",
      "statistic   376.08028807682047\n"
     ]
    }
   ],
   "source": [
    "# subset the data to only include campaign responses\n",
    "ifood_campaign = ifood[['AcceptedCmp1', 'AcceptedCmp2', 'AcceptedCmp3', 'AcceptedCmp4', 'AcceptedCmp5', 'Response']]\n",
    "\n",
    "# Cochran's Q test\n",
    "result = cochrans_q(ifood_campaign)\n",
    "print(result)\n",
    "# at lest one campaign has a significantly different response rate"
   ]
  },
  {
   "cell_type": "code",
   "execution_count": 4,
   "metadata": {},
   "outputs": [
    {
     "name": "stdout",
     "output_type": "stream",
     "text": [
      "('AcceptedCmp1', 'AcceptedCmp2'): adjusted p-value=2.5656210184884974e-21\n",
      "('AcceptedCmp1', 'Response'): adjusted p-value=3.7261931882421794e-27\n",
      "('AcceptedCmp2', 'AcceptedCmp3'): adjusted p-value=2.6469704666496385e-24\n",
      "('AcceptedCmp2', 'AcceptedCmp4'): adjusted p-value=1.1699925508555891e-31\n",
      "('AcceptedCmp2', 'AcceptedCmp5'): adjusted p-value=6.117130978207308e-28\n",
      "('AcceptedCmp2', 'Response'): adjusted p-value=5.365317795079052e-78\n",
      "('AcceptedCmp3', 'Response'): adjusted p-value=1.4350816567133877e-19\n",
      "('AcceptedCmp4', 'Response'): adjusted p-value=1.2476848574869235e-17\n",
      "('AcceptedCmp5', 'Response'): adjusted p-value=3.724635148023631e-22\n"
     ]
    }
   ],
   "source": [
    "# perform a post-hoc pairwise McNemar's test\n",
    "# create pairwise comparisons between each campaign\n",
    "pairs = list(combinations(ifood_campaign.columns, 2))\n",
    "alpha = 0.05\n",
    "\n",
    "# perform individual mcnemar tests for each campaign pair\n",
    "for pair in pairs:\n",
    "    table = pd.crosstab(ifood_campaign[pair[0]], ifood_campaign[pair[1]])\n",
    "    result = mcnemar(table, exact=True)\n",
    "    p_value = result.pvalue\n",
    "\n",
    "    # apply Bonferroni correction (reduce type I error risk)\n",
    "    p_value_adj = p_value * len(pairs)\n",
    "    adjusted_alpha = alpha/len(pairs)\n",
    "\n",
    "    # print results of each significant comparison\n",
    "    if p_value_adj < adjusted_alpha :\n",
    "        print(f\"{pair}: adjusted p-value={p_value_adj}\")"
   ]
  },
  {
   "cell_type": "code",
   "execution_count": 5,
   "metadata": {},
   "outputs": [
    {
     "name": "stdout",
     "output_type": "stream",
     "text": [
      "                                   antecedents  \\\n",
      "27  (AcceptedCmp1, AcceptedCmp4, AcceptedCmp5)   \n",
      "16                (AcceptedCmp1, AcceptedCmp5)   \n",
      "10                (AcceptedCmp1, AcceptedCmp4)   \n",
      "31                (AcceptedCmp1, AcceptedCmp4)   \n",
      "33                (AcceptedCmp4, AcceptedCmp5)   \n",
      "32                (AcceptedCmp1, AcceptedCmp5)   \n",
      "18                              (AcceptedCmp1)   \n",
      "19                              (AcceptedCmp5)   \n",
      "23                              (AcceptedCmp5)   \n",
      "22                              (AcceptedCmp4)   \n",
      "12                              (AcceptedCmp1)   \n",
      "13                              (AcceptedCmp4)   \n",
      "35                              (AcceptedCmp1)   \n",
      "37                              (AcceptedCmp5)   \n",
      "36                              (AcceptedCmp4)   \n",
      "\n",
      "                               consequents   support  confidence       lift  \n",
      "27                              (Response)  0.011791    0.838710   5.553618  \n",
      "16                              (Response)  0.024036    0.779412   5.160970  \n",
      "10                              (Response)  0.015420    0.755556   5.003003  \n",
      "31                (Response, AcceptedCmp5)  0.011791    0.577778  14.000000  \n",
      "33                (Response, AcceptedCmp1)  0.011791    0.440678  12.299936  \n",
      "32                (Response, AcceptedCmp4)  0.011791    0.382353  13.598197  \n",
      "18                (Response, AcceptedCmp5)  0.024036    0.373239   9.043879  \n",
      "19                (Response, AcceptedCmp1)  0.024036    0.329193   9.188222  \n",
      "23                (Response, AcceptedCmp4)  0.018141    0.248447   8.835905  \n",
      "22                (Response, AcceptedCmp5)  0.018141    0.243902   5.909944  \n",
      "12                (Response, AcceptedCmp4)  0.015420    0.239437   8.515448  \n",
      "13                (Response, AcceptedCmp1)  0.015420    0.207317   5.786508  \n",
      "35  (Response, AcceptedCmp4, AcceptedCmp5)  0.011791    0.183099  10.093310  \n",
      "37  (Response, AcceptedCmp1, AcceptedCmp4)  0.011791    0.161491  10.473146  \n",
      "36  (Response, AcceptedCmp1, AcceptedCmp5)  0.011791    0.158537   6.595720  \n"
     ]
    },
    {
     "name": "stderr",
     "output_type": "stream",
     "text": [
      "c:\\Users\\marie\\anaconda3\\envs\\AnalyticsFoundations\\Lib\\site-packages\\mlxtend\\frequent_patterns\\fpcommon.py:161: DeprecationWarning: DataFrames with non-bool types result in worse computationalperformance and their support might be discontinued in the future.Please use a DataFrame with bool type\n",
      "  warnings.warn(\n"
     ]
    }
   ],
   "source": [
    "# association analysis\n",
    "# get the most frequent campaign response pairs \n",
    "frequent_pairs = apriori(ifood_campaign, min_support=0.01, use_colnames=True)\n",
    "\n",
    "# output the association rules\n",
    "rules = association_rules(frequent_pairs, num_itemsets = 2205, metric=\"lift\", min_threshold=5.0)\n",
    "\n",
    "# filter the association rules to only include consequents with the response variable\n",
    "rules_response = rules[rules['consequents'].apply(lambda x: 'Response' in x)]\n",
    "\n",
    "# output the final rules table (sorted by confidence)\n",
    "rules_table = rules_response[['antecedents', 'consequents', 'support', 'confidence', 'lift']].sort_values(by='confidence', ascending=False)\n",
    "print(rules_table)"
   ]
  }
 ],
 "metadata": {
  "kernelspec": {
   "display_name": "AnalyticsFoundations",
   "language": "python",
   "name": "python3"
  },
  "language_info": {
   "codemirror_mode": {
    "name": "ipython",
    "version": 3
   },
   "file_extension": ".py",
   "mimetype": "text/x-python",
   "name": "python",
   "nbconvert_exporter": "python",
   "pygments_lexer": "ipython3",
   "version": "3.11.9"
  }
 },
 "nbformat": 4,
 "nbformat_minor": 2
}
