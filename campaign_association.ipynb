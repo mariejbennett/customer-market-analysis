{
 "cells": [
  {
   "cell_type": "code",
   "execution_count": null,
   "metadata": {},
   "outputs": [],
   "source": [
    "# import needed packages\n",
    "import pandas as pd\n",
    "from statsmodels.stats.contingency_tables import cochrans_q\n",
    "from itertools import combinations\n",
    "from statsmodels.stats.contingency_tables import mcnemar\n",
    "import statsmodels.stats.multitest as smm\n",
    "from mlxtend.frequent_patterns import apriori, association_rules"
   ]
  },
  {
   "cell_type": "code",
   "execution_count": null,
   "metadata": {},
   "outputs": [],
   "source": [
    "# read in the data\n",
    "ifood = pd.read_csv('ifood_df.csv')"
   ]
  },
  {
   "cell_type": "code",
   "execution_count": null,
   "metadata": {},
   "outputs": [],
   "source": [
    "# use Cochran's Q test for significant differences between customer campaign responses\n",
    "\n",
    "ifood_campaign = ifood[['AcceptedCmp1', 'AcceptedCmp2', 'AcceptedCmp3', 'AcceptedCmp4', 'AcceptedCmp5', 'Response']]\n",
    "\n",
    "# Cochran's Q test\n",
    "result = cochrans_q(ifood_campaign)\n",
    "print(result)\n",
    "# at lest one campaign has a significantly different response rate"
   ]
  },
  {
   "cell_type": "code",
   "execution_count": null,
   "metadata": {},
   "outputs": [],
   "source": [
    "# perform a post-hoc pairwise McNemar's test\n",
    "\n",
    "# create pairwise comparisons between each campaign\n",
    "pairs = list(combinations(ifood_campaign.columns, 2))\n",
    "alpha = 0.05\n",
    "\n",
    "# perform individual mcnemar tests for each campaign pair\n",
    "for pair in pairs:\n",
    "    table = pd.crosstab(ifood_campaign[pair[0]], ifood_campaign[pair[1]])\n",
    "    result = mcnemar(table, exact=True)\n",
    "    p_value = result.pvalue\n",
    "\n",
    "    # apply Bonferroni correction (reduce type I error risk)\n",
    "    p_value_adj = p_value * len(pairs)\n",
    "    adjusted_alpha = alpha/len(pairs)\n",
    "\n",
    "    # print results of each significant comparison\n",
    "    if p_value_adj < adjusted_alpha :\n",
    "        print(f\"{pair}: adjusted p-value={p_value_adj}\")\n",
    "\n",
    "# campaign 2 is significantly different from all other campaigns (less customer responses)\n",
    "# the final campaign is significantly different from all 5 other campaigns (more customer responses)\n",
    "# campaigns 1, 3, 4, and 5 are not signifcantly different from each other in terms of customer responses"
   ]
  },
  {
   "cell_type": "code",
   "execution_count": null,
   "metadata": {},
   "outputs": [],
   "source": [
    "# association analysis\n",
    "\n",
    "# get the most frequent campaign response pairs \n",
    "frequent_pairs = apriori(ifood_campaign, min_support=0.01, use_colnames=True)\n",
    "\n",
    "# output the association rules\n",
    "rules = association_rules(frequent_pairs, num_itemsets = 2205, metric=\"lift\", min_threshold=5.0)\n",
    "\n",
    "# filter the association rules to only include consequents with the response variable\n",
    "rules_response = rules[rules['consequents'].apply(lambda x: 'Response' in x)]\n",
    "\n",
    "# output the final rules table (sorted by confidence)\n",
    "rules_table = rules_response[['antecedents', 'consequents', 'support', 'confidence', 'lift']].sort_values(by='confidence', ascending=False)\n",
    "print(rules_table)\n",
    "\n",
    "# customers responses to campaigns 1, 4, and 5 are usually associated with responding to the final campaign"
   ]
  }
 ],
 "metadata": {
  "kernelspec": {
   "display_name": "AnalyticsFoundations",
   "language": "python",
   "name": "python3"
  },
  "language_info": {
   "name": "python",
   "version": "3.11.9"
  }
 },
 "nbformat": 4,
 "nbformat_minor": 2
}
