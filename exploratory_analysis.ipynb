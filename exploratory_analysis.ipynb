{
 "cells": [
  {
   "cell_type": "markdown",
   "metadata": {},
   "source": [
    "# Analysis Summary\n",
    "This data provides details on customer grocery spending habits and campaign response patterns. The data has 2,205 observations and 39 features. The key response variable is a binary indicator with about 15% responding customers. The data includes both categorical and continous predictor variables, neither of which have any missing values or separation issues. The data does have some aggregated total variables which present some multicollinearity concerns."
   ]
  },
  {
   "cell_type": "code",
   "execution_count": 1,
   "metadata": {},
   "outputs": [],
   "source": [
    "# import needed packages\n",
    "import pandas as pd\n",
    "import numpy as np\n",
    "import seaborn as sns\n",
    "import matplotlib.pyplot as plt"
   ]
  },
  {
   "cell_type": "code",
   "execution_count": 3,
   "metadata": {},
   "outputs": [
    {
     "name": "stdout",
     "output_type": "stream",
     "text": [
      "    Income  Kidhome  Teenhome  Recency  MntWines  MntFruits  MntMeatProducts  \\\n",
      "0  58138.0        0         0       58       635         88              546   \n",
      "1  46344.0        1         1       38        11          1                6   \n",
      "2  71613.0        0         0       26       426         49              127   \n",
      "3  26646.0        1         0       26        11          4               20   \n",
      "4  58293.0        1         0       94       173         43              118   \n",
      "\n",
      "   MntFishProducts  MntSweetProducts  MntGoldProds  ...  marital_Together  \\\n",
      "0              172                88            88  ...                 0   \n",
      "1                2                 1             6  ...                 0   \n",
      "2              111                21            42  ...                 1   \n",
      "3               10                 3             5  ...                 1   \n",
      "4               46                27            15  ...                 0   \n",
      "\n",
      "   marital_Widow  education_2n Cycle  education_Basic  education_Graduation  \\\n",
      "0              0                   0                0                     1   \n",
      "1              0                   0                0                     1   \n",
      "2              0                   0                0                     1   \n",
      "3              0                   0                0                     1   \n",
      "4              0                   0                0                     0   \n",
      "\n",
      "   education_Master  education_PhD  MntTotal  MntRegularProds  \\\n",
      "0                 0              0      1529             1441   \n",
      "1                 0              0        21               15   \n",
      "2                 0              0       734              692   \n",
      "3                 0              0        48               43   \n",
      "4                 0              1       407              392   \n",
      "\n",
      "   AcceptedCmpOverall  \n",
      "0                   0  \n",
      "1                   0  \n",
      "2                   0  \n",
      "3                   0  \n",
      "4                   0  \n",
      "\n",
      "[5 rows x 39 columns]\n"
     ]
    }
   ],
   "source": [
    "# read in marketing data\n",
    "ifood = pd.read_csv('ifood_df.csv')\n",
    "print(ifood.head(n=5))"
   ]
  },
  {
   "cell_type": "code",
   "execution_count": 9,
   "metadata": {},
   "outputs": [
    {
     "name": "stdout",
     "output_type": "stream",
     "text": [
      "(2205, 39)\n",
      "Response\n",
      "0    1872\n",
      "1     333\n",
      "Name: count, dtype: int64\n"
     ]
    }
   ],
   "source": [
    "# dataframe dimensions and response counts\n",
    "print(ifood.shape)\n",
    "print(ifood['Response'].value_counts())"
   ]
  },
  {
   "cell_type": "markdown",
   "metadata": {},
   "source": [
    "# Variable Type Conversions"
   ]
  },
  {
   "cell_type": "code",
   "execution_count": 4,
   "metadata": {},
   "outputs": [],
   "source": [
    "# convert target variable to binary\n",
    "ifood['Response'] = ifood['Response'].astype('category')\n",
    "\n",
    "# list all categorical predictor variables\n",
    "ifood_cat = ['AcceptedCmp1', 'AcceptedCmp2', 'AcceptedCmp3', 'AcceptedCmp4', 'AcceptedCmp5', 'AcceptedCmpOverall',\n",
    "             'education_2n Cycle', 'education_Basic', 'education_Graduation', 'education_Master', 'education_PhD',\n",
    "             'marital_Divorced', 'marital_Married', 'marital_Single', 'marital_Together', 'marital_Widow',\n",
    "             'Kidhome', 'Teenhome', 'Complain'\n",
    "            ]\n",
    "\n",
    "# convert all variables in list to categorical\n",
    "ifood[ifood_cat] = ifood[ifood_cat].apply(pd.Categorical)"
   ]
  },
  {
   "cell_type": "markdown",
   "metadata": {},
   "source": [
    "# Variable Distributions"
   ]
  },
  {
   "cell_type": "code",
   "execution_count": 5,
   "metadata": {},
   "outputs": [
    {
     "name": "stdout",
     "output_type": "stream",
     "text": [
      "              Income      Recency     MntWines    MntFruits  MntMeatProducts  \\\n",
      "count    2205.000000  2205.000000  2205.000000  2205.000000      2205.000000   \n",
      "mean    51622.094785    49.009070   306.164626    26.403175       165.312018   \n",
      "std     20713.063826    28.932111   337.493839    39.784484       217.784507   \n",
      "min      1730.000000     0.000000     0.000000     0.000000         0.000000   \n",
      "25%     35196.000000    24.000000    24.000000     2.000000        16.000000   \n",
      "50%     51287.000000    49.000000   178.000000     8.000000        68.000000   \n",
      "75%     68281.000000    74.000000   507.000000    33.000000       232.000000   \n",
      "max    113734.000000    99.000000  1493.000000   199.000000      1725.000000   \n",
      "\n",
      "       MntFishProducts  MntSweetProducts  MntGoldProds  NumDealsPurchases  \\\n",
      "count      2205.000000       2205.000000   2205.000000        2205.000000   \n",
      "mean         37.756463         27.128345     44.057143           2.318367   \n",
      "std          54.824635         41.130468     51.736211           1.886107   \n",
      "min           0.000000          0.000000      0.000000           0.000000   \n",
      "25%           3.000000          1.000000      9.000000           1.000000   \n",
      "50%          12.000000          8.000000     25.000000           2.000000   \n",
      "75%          50.000000         34.000000     56.000000           3.000000   \n",
      "max         259.000000        262.000000    321.000000          15.000000   \n",
      "\n",
      "       NumWebPurchases  NumCatalogPurchases  NumStorePurchases  \\\n",
      "count      2205.000000          2205.000000        2205.000000   \n",
      "mean          4.100680             2.645351           5.823583   \n",
      "std           2.737424             2.798647           3.241796   \n",
      "min           0.000000             0.000000           0.000000   \n",
      "25%           2.000000             0.000000           3.000000   \n",
      "50%           4.000000             2.000000           5.000000   \n",
      "75%           6.000000             4.000000           8.000000   \n",
      "max          27.000000            28.000000          13.000000   \n",
      "\n",
      "       NumWebVisitsMonth  Z_CostContact  Z_Revenue          Age  \\\n",
      "count        2205.000000         2205.0     2205.0  2205.000000   \n",
      "mean            5.336961            3.0       11.0    51.095692   \n",
      "std             2.413535            0.0        0.0    11.705801   \n",
      "min             0.000000            3.0       11.0    24.000000   \n",
      "25%             3.000000            3.0       11.0    43.000000   \n",
      "50%             6.000000            3.0       11.0    50.000000   \n",
      "75%             7.000000            3.0       11.0    61.000000   \n",
      "max            20.000000            3.0       11.0    80.000000   \n",
      "\n",
      "       Customer_Days     MntTotal  MntRegularProds  \n",
      "count    2205.000000  2205.000000      2205.000000  \n",
      "mean     2512.718367   562.764626       518.707483  \n",
      "std       202.563647   575.936911       553.847248  \n",
      "min      2159.000000     4.000000      -283.000000  \n",
      "25%      2339.000000    56.000000        42.000000  \n",
      "50%      2515.000000   343.000000       288.000000  \n",
      "75%      2688.000000   964.000000       884.000000  \n",
      "max      2858.000000  2491.000000      2458.000000  \n"
     ]
    }
   ],
   "source": [
    "# print the numeric summary for each continuous variable\n",
    "desc = ifood.describe()\n",
    "print(desc)"
   ]
  },
  {
   "cell_type": "markdown",
   "metadata": {},
   "source": [
    "# Variable Anomolies"
   ]
  },
  {
   "cell_type": "code",
   "execution_count": 6,
   "metadata": {},
   "outputs": [
    {
     "name": "stdout",
     "output_type": "stream",
     "text": [
      "Series([], dtype: int64)\n"
     ]
    }
   ],
   "source": [
    "# check for missing data\n",
    "missing_values = ifood.isnull().sum()\n",
    "missing_columns = missing_values[missing_values > 0]\n",
    "print(missing_columns)"
   ]
  },
  {
   "cell_type": "code",
   "execution_count": 7,
   "metadata": {},
   "outputs": [
    {
     "name": "stdout",
     "output_type": "stream",
     "text": [
      "AcceptedCmp1     0   1\n",
      "Response              \n",
      "0             1809  63\n",
      "1              254  79\n",
      "AcceptedCmp2     0   1\n",
      "Response              \n",
      "0             1862  10\n",
      "1              313  20\n",
      "AcceptedCmp3     0   1\n",
      "Response              \n",
      "0             1786  86\n",
      "1              256  77\n",
      "AcceptedCmp4     0    1\n",
      "Response               \n",
      "0             1770  102\n",
      "1              271   62\n",
      "AcceptedCmp5     0   1\n",
      "Response              \n",
      "0             1802  70\n",
      "1              242  91\n",
      "AcceptedCmpOverall     0    1   2   3   4\n",
      "Response                                 \n",
      "0                   1601  222  39   9   1\n",
      "1                    146  100  42  35  10\n",
      "education_2n Cycle     0    1\n",
      "Response                     \n",
      "0                   1696  176\n",
      "1                    311   22\n",
      "education_Basic     0   1\n",
      "Response                 \n",
      "0                1820  52\n",
      "1                 331   2\n",
      "education_Graduation    0    1\n",
      "Response                      \n",
      "0                     911  961\n",
      "1                     181  152\n",
      "education_Master     0    1\n",
      "Response                   \n",
      "0                 1564  308\n",
      "1                  277   56\n",
      "education_PhD     0    1\n",
      "Response                \n",
      "0              1497  375\n",
      "1               232  101\n",
      "marital_Divorced     0    1\n",
      "Response                   \n",
      "0                 1690  182\n",
      "1                  285   48\n",
      "marital_Married     0    1\n",
      "Response                  \n",
      "0                1116  756\n",
      "1                 235   98\n",
      "marital_Single     0    1\n",
      "Response                 \n",
      "0               1504  368\n",
      "1                224  109\n",
      "marital_Together     0    1\n",
      "Response                   \n",
      "0                 1364  508\n",
      "1                  273   60\n",
      "marital_Widow     0   1\n",
      "Response               \n",
      "0              1814  58\n",
      "1               315  18\n",
      "Kidhome      0    1   2\n",
      "Response               \n",
      "0         1055  773  44\n",
      "1          221  110   2\n",
      "Teenhome    0    1   2\n",
      "Response              \n",
      "0         903  923  46\n",
      "1         236   92   5\n",
      "Complain     0   1\n",
      "Response          \n",
      "0         1855  17\n",
      "1          330   3\n"
     ]
    }
   ],
   "source": [
    "# check for separation issues\n",
    "for var in ifood_cat :\n",
    "    print(pd.crosstab(ifood['Response'], ifood[var]))"
   ]
  },
  {
   "cell_type": "markdown",
   "metadata": {},
   "source": [
    "# Correlations"
   ]
  },
  {
   "cell_type": "code",
   "execution_count": null,
   "metadata": {},
   "outputs": [
    {
     "name": "stdout",
     "output_type": "stream",
     "text": [
      "\n",
      "Highly Correlated Pairs:\n",
      "Income               MntTotal               0.823066\n",
      "                     MntRegularProds        0.816879\n",
      "MntWines             MntTotal               0.902310\n",
      "                     MntRegularProds        0.901848\n",
      "MntMeatProducts      MntTotal               0.861392\n",
      "                     MntRegularProds        0.860663\n",
      "NumCatalogPurchases  MntTotal               0.791187\n",
      "                     MntRegularProds        0.778742\n",
      "MntTotal             Income                 0.823066\n",
      "                     MntWines               0.902310\n",
      "                     MntMeatProducts        0.861392\n",
      "                     NumCatalogPurchases    0.791187\n",
      "                     MntRegularProds        0.996569\n",
      "MntRegularProds      Income                 0.816879\n",
      "                     MntWines               0.901848\n",
      "                     MntMeatProducts        0.860663\n",
      "                     NumCatalogPurchases    0.778742\n",
      "                     MntTotal               0.996569\n",
      "dtype: float64\n"
     ]
    }
   ],
   "source": [
    "# idenfity highly correlated variables (above 0.75 or below -0.75)\n",
    "correlation_matrix = ifood.corr()\n",
    "pos_threshold = 0.75\n",
    "neg_threshold = -0.75\n",
    "high_corr_pairs = correlation_matrix.where(\n",
    "    ((correlation_matrix >= pos_threshold) | (correlation_matrix <= neg_threshold)) & (correlation_matrix != 1.0)).stack()\n",
    "print(\"\\nHighly Correlated Pairs:\")\n",
    "print(high_corr_pairs)"
   ]
  }
 ],
 "metadata": {
  "kernelspec": {
   "display_name": "AnalyticsFoundations",
   "language": "python",
   "name": "python3"
  },
  "language_info": {
   "codemirror_mode": {
    "name": "ipython",
    "version": 3
   },
   "file_extension": ".py",
   "mimetype": "text/x-python",
   "name": "python",
   "nbconvert_exporter": "python",
   "pygments_lexer": "ipython3",
   "version": "3.11.9"
  }
 },
 "nbformat": 4,
 "nbformat_minor": 2
}
